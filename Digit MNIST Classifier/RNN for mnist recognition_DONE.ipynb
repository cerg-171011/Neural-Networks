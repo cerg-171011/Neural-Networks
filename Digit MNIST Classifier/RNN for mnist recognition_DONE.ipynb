{
 "cells": [
  {
   "cell_type": "code",
   "execution_count": 2,
   "metadata": {},
   "outputs": [],
   "source": [
    "# В данной работе будет сделан классический \"hello world\" в мире нейронных сетей.\n",
    "# Классификация рукописных цифр из набора mnist\n",
    "# Точность модели ~ 90 %\n",
    "\n",
    "\n",
    "import numpy as np\n",
    "import matplotlib.pyplot as plt\n",
    "from tensorflow.keras.layers import Input, SimpleRNN, Dense\n",
    "from tensorflow.keras.models import Model"
   ]
  },
  {
   "cell_type": "code",
   "execution_count": 3,
   "metadata": {},
   "outputs": [],
   "source": [
    "from tensorflow.keras.datasets import mnist"
   ]
  },
  {
   "cell_type": "code",
   "execution_count": 4,
   "metadata": {},
   "outputs": [],
   "source": [
    "# Зугрузка датасета\n",
    "\n",
    "(x_train, y_train), (x_test, y_test) = mnist.load_data()"
   ]
  },
  {
   "cell_type": "code",
   "execution_count": 5,
   "metadata": {},
   "outputs": [],
   "source": [
    "# Приводим данные к значениям от 0 - 1\n",
    "\n",
    "x_train, x_test = x_train/255.0, x_test / 255.0 # Пробнуть без x_test"
   ]
  },
  {
   "cell_type": "code",
   "execution_count": 6,
   "metadata": {},
   "outputs": [],
   "source": [
    "# Создаем сеть\n",
    "\n",
    "i = Input(shape=(x_train[0].shape))\n",
    "x = SimpleRNN(50, activation = 'relu')(i)\n",
    "x = Dense(10, activation = 'softmax')(x)"
   ]
  },
  {
   "cell_type": "code",
   "execution_count": 7,
   "metadata": {},
   "outputs": [],
   "source": [
    "model = Model(i,x)\n",
    "model.compile(optimizer = 'adam', loss = 'sparse_categorical_crossentropy', metrics = ['accuracy'])"
   ]
  },
  {
   "cell_type": "code",
   "execution_count": 8,
   "metadata": {},
   "outputs": [
    {
     "name": "stdout",
     "output_type": "stream",
     "text": [
      "Train on 60000 samples, validate on 10000 samples\n",
      "Epoch 1/5\n",
      "60000/60000 [==============================] - 32s 526us/sample - loss: 0.6571 - accuracy: 0.7850 - val_loss: 0.4267 - val_accuracy: 0.8617\n",
      "Epoch 2/5\n",
      "60000/60000 [==============================] - 49s 824us/sample - loss: 0.3099 - accuracy: 0.9086 - val_loss: 0.3012 - val_accuracy: 0.9118\n",
      "Epoch 3/5\n",
      "60000/60000 [==============================] - 74s 1ms/sample - loss: 0.2533 - accuracy: 0.9263 - val_loss: 0.2026 - val_accuracy: 0.9415\n",
      "Epoch 4/5\n",
      "60000/60000 [==============================] - 77s 1ms/sample - loss: 0.2193 - accuracy: 0.9359 - val_loss: 0.1959 - val_accuracy: 0.9431\n",
      "Epoch 5/5\n",
      "60000/60000 [==============================] - 79s 1ms/sample - loss: 0.1979 - accuracy: 0.9417 - val_loss: 0.1630 - val_accuracy: 0.9522\n"
     ]
    }
   ],
   "source": [
    "r = model.fit(x_train, y_train, validation_data=(x_test, y_test), epochs = 5)"
   ]
  },
  {
   "cell_type": "code",
   "execution_count": 9,
   "metadata": {},
   "outputs": [
    {
     "data": {
      "text/plain": [
       "[<matplotlib.lines.Line2D at 0x7ff3ef026610>]"
      ]
     },
     "execution_count": 9,
     "metadata": {},
     "output_type": "execute_result"
    },
    {
     "data": {
      "image/png": "[encoded data removed]",
      "text/plain": [
       "<Figure size 432x288 with 1 Axes>"
      ]
     },
     "metadata": {
      "needs_background": "light"
     },
     "output_type": "display_data"
    }
   ],
   "source": [
    "plt.plot(r.history['loss'], label = 'loss')\n",
    "plt.plot(r.history['val_loss'], label = 'val_loss')"
   ]
  },
  {
   "cell_type": "code",
   "execution_count": 10,
   "metadata": {},
   "outputs": [
    {
     "name": "stdout",
     "output_type": "stream",
     "text": [
      "Valid = 9522, non_valid = 478, mean = 0.9522 %\n"
     ]
    }
   ],
   "source": [
    "# Предсказываем метки наших тестовых данных, так же смотрим какое кол-во меток наша модель предсказала правильно, а\n",
    "# какое не правильно, так же выведем кол-во правильно и непрвильно квалифицированных меток \n",
    "\n",
    "targets_class = np.unique(y_test)\n",
    "preds = model.predict(x_test)\n",
    "pred_list = []\n",
    "count_valid = 0\n",
    "count_non_valid = 0\n",
    "for num, (i, j) in enumerate(zip(preds, y_test)):\n",
    "    if np.argmax(i) == j:\n",
    "        count_valid += 1\n",
    "        pred_list.append(True)\n",
    "    else:\n",
    "        pred_list.append(False)\n",
    "        count_non_valid +=1\n",
    "    #print('Predict = {}, goal = {}'.format(np.argmax(i), j))\n",
    "print(f'Valid = {count_valid}, non_valid = {count_non_valid}, mean = {sum(pred_list) / len(pred_list)} %')"
   ]
  },
  {
   "cell_type": "code",
   "execution_count": null,
   "metadata": {},
   "outputs": [],
   "source": []
  }
 ],
 "metadata": {
  "kernelspec": {
   "display_name": "Python 3",
   "language": "python",
   "name": "python3"
  },
  "language_info": {
   "codemirror_mode": {
    "name": "ipython",
    "version": 3
   },
   "file_extension": ".py",
   "mimetype": "text/x-python",
   "name": "python",
   "nbconvert_exporter": "python",
   "pygments_lexer": "ipython3",
   "version": "3.7.6"
  }
 },
 "nbformat": 4,
 "nbformat_minor": 4
}
